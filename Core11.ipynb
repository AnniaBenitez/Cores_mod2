{
  "nbformat": 4,
  "nbformat_minor": 0,
  "metadata": {
    "colab": {
      "provenance": [],
      "authorship_tag": "ABX9TyP83aSsVzif5s7sknvnSAGj",
      "include_colab_link": true
    },
    "kernelspec": {
      "name": "python3",
      "display_name": "Python 3"
    },
    "language_info": {
      "name": "python"
    }
  },
  "cells": [
    {
      "cell_type": "markdown",
      "metadata": {
        "id": "view-in-github",
        "colab_type": "text"
      },
      "source": [
        "<a href=\"https://colab.research.google.com/github/AnniaBenitez/Cores_mod2/blob/main/Core11.ipynb\" target=\"_parent\"><img src=\"https://colab.research.google.com/assets/colab-badge.svg\" alt=\"Open In Colab\"/></a>"
      ]
    },
    {
      "cell_type": "code",
      "source": [
        "import kagglehub\n",
        "import os\n",
        "import pandas as pd\n",
        "import seaborn as sns\n",
        "import matplotlib.pyplot as plt\n",
        "from sklearn.preprocessing import LabelEncoder\n",
        "from sklearn.experimental import enable_iterative_imputer\n",
        "from sklearn.impute import IterativeImputer\n",
        "from sklearn.ensemble import RandomForestRegressor, RandomForestClassifier\n",
        "from sklearn.model_selection import train_test_split\n",
        "from sklearn.metrics import accuracy_score\n",
        "from sklearn.metrics import mean_absolute_error, mean_squared_error, r2_score"
      ],
      "metadata": {
        "id": "bXoMZBZt7l8K"
      },
      "execution_count": 20,
      "outputs": []
    },
    {
      "cell_type": "code",
      "execution_count": null,
      "metadata": {
        "id": "02QZSj0Z7PKz"
      },
      "outputs": [],
      "source": [
        "path = kagglehub.dataset_download(\"redwankarimsony/heart-disease-data\")\n",
        "\n",
        "print(\"Path to dataset files:\", path)"
      ]
    },
    {
      "cell_type": "code",
      "source": [
        "os.listdir(path)"
      ],
      "metadata": {
        "colab": {
          "base_uri": "https://localhost:8080/"
        },
        "id": "t8xhX-_Y78v6",
        "outputId": "c335fc45-e871-46c0-f13a-100b3f1c1713"
      },
      "execution_count": 3,
      "outputs": [
        {
          "output_type": "execute_result",
          "data": {
            "text/plain": [
              "['heart_disease_uci.csv']"
            ]
          },
          "metadata": {},
          "execution_count": 3
        }
      ]
    },
    {
      "cell_type": "code",
      "source": [
        "file_path = os.path.join(path, 'heart_disease_uci.csv')"
      ],
      "metadata": {
        "id": "AHejFhKR8NqT"
      },
      "execution_count": 4,
      "outputs": []
    },
    {
      "cell_type": "code",
      "source": [
        "df = pd.read_csv(file_path)\n",
        "df.head(10)"
      ],
      "metadata": {
        "id": "VA2QQZ3Y8SWD"
      },
      "execution_count": null,
      "outputs": []
    },
    {
      "cell_type": "code",
      "source": [
        "df.info()"
      ],
      "metadata": {
        "id": "FWwQhTAD8ZNq"
      },
      "execution_count": null,
      "outputs": []
    },
    {
      "cell_type": "code",
      "source": [
        "sns.histplot(df['age'], kde=True)"
      ],
      "metadata": {
        "colab": {
          "base_uri": "https://localhost:8080/",
          "height": 466
        },
        "id": "oIWn8RRs8ski",
        "outputId": "ff11b671-01b7-4189-e266-81c167da52de"
      },
      "execution_count": 12,
      "outputs": [
        {
          "output_type": "execute_result",
          "data": {
            "text/plain": [
              "<Axes: xlabel='age', ylabel='Count'>"
            ]
          },
          "metadata": {},
          "execution_count": 12
        },
        {
          "output_type": "display_data",
          "data": {
            "text/plain": [
              "<Figure size 640x480 with 1 Axes>"
            ],
            "image/png": "[encoded data removed]"
          },
          "metadata": {}
        }
      ]
    },
    {
      "cell_type": "code",
      "source": [
        "df.isnull().sum()[df.isnull().sum() > 0].sort_values(ascending=False)\n",
        "missing_data_cols = df.isnull().sum()[df.isnull().sum() > 0].index.tolist()\n",
        "missing_data_cols"
      ],
      "metadata": {
        "id": "fUhmPXjj-SB-"
      },
      "execution_count": null,
      "outputs": []
    },
    {
      "cell_type": "code",
      "source": [
        "categorical_cols = ['thal', 'ca', 'slope', 'exang', 'restecg','fbs', 'cp', 'sex', 'num']\n",
        "bool_cols = ['fbs', 'exang']\n",
        "numeric_cols = ['oldpeak', 'thalch', 'chol', 'trestbps', 'age']"
      ],
      "metadata": {
        "id": "nDKNcIo7-URb"
      },
      "execution_count": 14,
      "outputs": []
    },
    {
      "cell_type": "code",
      "source": [
        "def impute_categorical_missing_data(passed_col):\n",
        "\n",
        "    df_null = df[df[passed_col].isnull()]\n",
        "    df_not_null = df[df[passed_col].notnull()]\n",
        "\n",
        "    X = df_not_null.drop(passed_col, axis=1)\n",
        "    y = df_not_null[passed_col]\n",
        "\n",
        "    other_missing_cols = [col for col in missing_data_cols if col != passed_col]\n",
        "\n",
        "    label_encoder = LabelEncoder()\n",
        "\n",
        "    for col in X.columns:\n",
        "        if X[col].dtype == 'object' or X[col].dtype == 'category':\n",
        "            X[col] = label_encoder.fit_transform(X[col])\n",
        "\n",
        "    if passed_col in bool_cols:\n",
        "        y = label_encoder.fit_transform(y)\n",
        "\n",
        "    iterative_imputer = IterativeImputer(estimator=RandomForestRegressor(random_state=42), add_indicator=True)\n",
        "\n",
        "    for col in other_missing_cols:\n",
        "        if X[col].isnull().sum() > 0:\n",
        "            col_with_missing_values = X[col].values.reshape(-1, 1)\n",
        "            imputed_values = iterative_imputer.fit_transform(col_with_missing_values)\n",
        "            X[col] = imputed_values[:, 0]\n",
        "        else:\n",
        "            pass\n",
        "\n",
        "    X_train, X_test, y_train, y_test = train_test_split(X, y, test_size=0.2, random_state=42)\n",
        "\n",
        "    rf_classifier = RandomForestClassifier()\n",
        "\n",
        "    rf_classifier.fit(X_train, y_train)\n",
        "\n",
        "    y_pred = rf_classifier.predict(X_test)\n",
        "\n",
        "    acc_score = accuracy_score(y_test, y_pred)\n",
        "\n",
        "    print(\"The feature '\"+ passed_col+ \"' has been imputed with\", round((acc_score * 100), 2), \"accuracy\\n\")\n",
        "\n",
        "    X = df_null.drop(passed_col, axis=1)\n",
        "\n",
        "    for col in X.columns:\n",
        "        if X[col].dtype == 'object' or X[col].dtype == 'category':\n",
        "            X[col] = label_encoder.fit_transform(X[col])\n",
        "\n",
        "    for col in other_missing_cols:\n",
        "        if X[col].isnull().sum() > 0:\n",
        "            col_with_missing_values = X[col].values.reshape(-1, 1)\n",
        "            imputed_values = iterative_imputer.fit_transform(col_with_missing_values)\n",
        "            X[col] = imputed_values[:, 0]\n",
        "        else:\n",
        "            pass\n",
        "\n",
        "    if len(df_null) > 0:\n",
        "        df_null[passed_col] = rf_classifier.predict(X)\n",
        "        if passed_col in bool_cols:\n",
        "            df_null[passed_col] = df_null[passed_col].map({0: False, 1: True})\n",
        "        else:\n",
        "            pass\n",
        "    else:\n",
        "        pass\n",
        "\n",
        "    df_combined = pd.concat([df_not_null, df_null])\n",
        "\n",
        "    return df_combined[passed_col]\n",
        "\n",
        "def impute_continuous_missing_data(passed_col):\n",
        "\n",
        "    df_null = df[df[passed_col].isnull()]\n",
        "    df_not_null = df[df[passed_col].notnull()]\n",
        "\n",
        "    X = df_not_null.drop(passed_col, axis=1)\n",
        "    y = df_not_null[passed_col]\n",
        "\n",
        "    other_missing_cols = [col for col in missing_data_cols if col != passed_col]\n",
        "\n",
        "    label_encoder = LabelEncoder()\n",
        "\n",
        "    for col in X.columns:\n",
        "        if X[col].dtype == 'object' or X[col].dtype == 'category':\n",
        "            X[col] = label_encoder.fit_transform(X[col])\n",
        "\n",
        "    iterative_imputer = IterativeImputer(estimator=RandomForestRegressor(random_state=42), add_indicator=True)\n",
        "\n",
        "    for col in other_missing_cols:\n",
        "        if X[col].isnull().sum() > 0:\n",
        "            col_with_missing_values = X[col].values.reshape(-1, 1)\n",
        "            imputed_values = iterative_imputer.fit_transform(col_with_missing_values)\n",
        "            X[col] = imputed_values[:, 0]\n",
        "        else:\n",
        "            pass\n",
        "\n",
        "    X_train, X_test, y_train, y_test = train_test_split(X, y, test_size=0.2, random_state=42)\n",
        "\n",
        "    rf_regressor = RandomForestRegressor()\n",
        "\n",
        "    rf_regressor.fit(X_train, y_train)\n",
        "\n",
        "    y_pred = rf_regressor.predict(X_test)\n",
        "\n",
        "    print(\"MAE =\", mean_absolute_error(y_test, y_pred), \"\\n\")\n",
        "    print(\"RMSE =\", mean_squared_error(y_test, y_pred, squared=False), \"\\n\")\n",
        "    print(\"R2 =\", r2_score(y_test, y_pred), \"\\n\")\n",
        "\n",
        "    X = df_null.drop(passed_col, axis=1)\n",
        "\n",
        "    for col in X.columns:\n",
        "        if X[col].dtype == 'object' or X[col].dtype == 'category':\n",
        "            X[col] = label_encoder.fit_transform(X[col])\n",
        "\n",
        "    for col in other_missing_cols:\n",
        "        if X[col].isnull().sum() > 0:\n",
        "            col_with_missing_values = X[col].values.reshape(-1, 1)\n",
        "            imputed_values = iterative_imputer.fit_transform(col_with_missing_values)\n",
        "            X[col] = imputed_values[:, 0]\n",
        "        else:\n",
        "            pass\n",
        "\n",
        "    if len(df_null) > 0:\n",
        "        df_null[passed_col] = rf_regressor.predict(X)\n",
        "    else:\n",
        "        pass\n",
        "\n",
        "    df_combined = pd.concat([df_not_null, df_null])\n",
        "\n",
        "    return df_combined[passed_col]"
      ],
      "metadata": {
        "id": "8BskFJ62-Xum"
      },
      "execution_count": 15,
      "outputs": []
    },
    {
      "cell_type": "code",
      "source": [
        "df.isnull().sum()[df.isnull().sum() > 0].sort_values(ascending=False)"
      ],
      "metadata": {
        "id": "-oeYsPi6-ae-"
      },
      "execution_count": null,
      "outputs": []
    },
    {
      "cell_type": "code",
      "source": [
        "import warnings\n",
        "warnings.filterwarnings('ignore')\n",
        "\n",
        "# impute missing values using our functions\n",
        "for col in missing_data_cols:\n",
        "    print(\"Missing Values\", col, \":\", str(round((df[col].isnull().sum() / len(df)) * 100, 2))+\"%\")\n",
        "    if col in categorical_cols:\n",
        "        df[col] = impute_categorical_missing_data(col)\n",
        "    elif col in numeric_cols:\n",
        "        df[col] = impute_continuous_missing_data(col)\n",
        "    else:\n",
        "        pass"
      ],
      "metadata": {
        "id": "ap2CtInB-dle"
      },
      "execution_count": null,
      "outputs": []
    },
    {
      "cell_type": "code",
      "source": [
        "grouped_age_stats = df.groupby('dataset')['age'].agg(['mean', 'median', lambda x: x.mode()[0]]).rename(columns={'<lambda>': 'mode'})"
      ],
      "metadata": {
        "id": "s8Df2bY--9F2"
      },
      "execution_count": 22,
      "outputs": []
    },
    {
      "cell_type": "code",
      "source": [
        "# split the data into X and y\n",
        "X = df.drop('num', axis=1)\n",
        "y = df['num']\n",
        "\n",
        "# encode X data using separate label encoder for all categorical columns and save it for inverse transform\n",
        "# Task: Separate Encoder for all cat and object columns and inverse transform at the end\n",
        "\n",
        "label_encoder = LabelEncoder()\n",
        "\n",
        "for col in X.columns:\n",
        "    if X[col].dtype == 'object' or X[col].dtype == 'category':\n",
        "        X[col] = label_encoder.fit_transform(X[col])\n",
        "    else:\n",
        "        pass\n",
        "\n",
        "# split the data into train and test\n",
        "X_train, X_test, y_train, y_test = train_test_split(X, y, test_size=0.3, random_state=42)"
      ],
      "metadata": {
        "id": "glSQ8Kyc_Iv1"
      },
      "execution_count": 23,
      "outputs": []
    },
    {
      "cell_type": "code",
      "source": [
        "from xgboost import XGBClassifier\n",
        "from sklearn.model_selection import GridSearchCV\n",
        "from sklearn.metrics import accuracy_score, precision_score, recall_score, f1_score, roc_auc_score\n",
        "\n",
        "# Definir el modelo base de XGBoost\n",
        "xgb_model = XGBClassifier(use_label_encoder=False, eval_metric='logloss', random_state=42)\n",
        "\n",
        "# Definir la grilla de hiperparámetros\n",
        "param_grid = {\n",
        "    'n_estimators': [50, 100, 200],       # Número de árboles\n",
        "    'max_depth': [3, 5, 7],              # Profundidad máxima de los árboles\n",
        "    'learning_rate': [0.01, 0.1, 0.2],   # Tasa de aprendizaje\n",
        "    'subsample': [0.8, 1.0],             # Porcentaje de muestras usadas en cada árbol\n",
        "    'colsample_bytree': [0.8, 1.0],      # Porcentaje de características usadas en cada árbol\n",
        "    'gamma': [0, 1],                     # Regularización (min. ganancia necesaria para dividir un nodo)\n",
        "    'reg_alpha': [0, 0.1],               # Regularización L1\n",
        "    'reg_lambda': [1, 10]                # Regularización L2\n",
        "}\n",
        "\n",
        "# Crear el objeto GridSearchCV\n",
        "grid_search = GridSearchCV(\n",
        "    estimator=xgb_model,\n",
        "    param_grid=param_grid,\n",
        "    scoring='accuracy',      # Métrica para evaluar los modelos\n",
        "    cv=5,                    # Validación cruzada con 5 particiones\n",
        "    n_jobs=-1,               # Paralelismo\n",
        "    verbose=2                # Mostrar progreso del entrenamiento\n",
        ")\n",
        "\n",
        "# Ajustar el GridSearch a los datos de entrenamiento\n",
        "grid_search.fit(X_train, y_train)\n",
        "\n",
        "# Obtener los mejores hiperparámetros\n",
        "best_params = grid_search.best_params_\n",
        "print(f\"Mejores hiperparámetros: {best_params}\")\n",
        "\n",
        "# Evaluar el mejor modelo\n",
        "best_model = grid_search.best_estimator_\n",
        "y_pred = best_model.predict(X_test)\n",
        "\n",
        "# Evaluar métricas del modelo optimizado\n",
        "metrics = {\n",
        "    'Accuracy': accuracy_score(y_test, y_pred),\n",
        "    'Precision': precision_score(y_test, y_pred, average='weighted', zero_division=0),\n",
        "    'Recall': recall_score(y_test, y_pred, average='weighted', zero_division=0),\n",
        "    'F1 Score': f1_score(y_test, y_pred, average='weighted', zero_division=0)\n",
        "}\n",
        "\n",
        "print(f\"Métricas del modelo optimizado: {metrics}\")\n"
      ],
      "metadata": {
        "id": "PaVRZMB3_yQK"
      },
      "execution_count": null,
      "outputs": []
    },
    {
      "cell_type": "code",
      "source": [
        "y_proba = best_model.predict_proba(X_test)[:, 1]\n",
        "roc_auc = roc_auc_score(y_test, y_proba)\n",
        "print(f\"ROC-AUC del modelo optimizado: {roc_auc}\")\n"
      ],
      "metadata": {
        "id": "3K3CwIRg_2Qy"
      },
      "execution_count": null,
      "outputs": []
    }
  ]
}